{
  "nbformat": 4,
  "nbformat_minor": 2,
  "metadata": {
    "colab": {
      "name": "Next Word Prediction with Transformers.ipynb",
      "provenance": [],
      "collapsed_sections": []
    },
    "kernelspec": {
      "name": "python3",
      "display_name": "Python 3.9.6 64-bit"
    },
    "language_info": {
      "name": "python",
      "version": "3.9.6",
      "mimetype": "text/x-python",
      "codemirror_mode": {
        "name": "ipython",
        "version": 3
      },
      "pygments_lexer": "ipython3",
      "nbconvert_exporter": "python",
      "file_extension": ".py"
    },
    "interpreter": {
      "hash": "aee8b7b246df8f9039afb4144a1f6fd8d2ca17a180786b69acc140d282b71a49"
    }
  },
  "cells": [
    {
      "cell_type": "code",
      "execution_count": null,
      "source": [
        "!pip3 install transformers"
      ],
      "outputs": [],
      "metadata": {
        "id": "RNu1tMQEo4kO"
      }
    },
    {
      "cell_type": "code",
      "execution_count": 7,
      "source": [
        "import torch\n",
        "import string\n",
        "from transformers import BertTokenizer, BertForMaskedLM"
      ],
      "outputs": [],
      "metadata": {
        "id": "mlM21EOGorIF"
      }
    },
    {
      "cell_type": "code",
      "execution_count": null,
      "source": [
        "bert_model = BertForMaskedLM.from_pretrained('neuralmind/bert-base-portuguese-cased').eval()\n",
        "bert_tokenizer = BertTokenizer.from_pretrained('neuralmind/bert-base-portuguese-cased', do_lower_case=False)\n",
        "top_k = 10\n",
        "\n",
        "def encode(tokenizer, text_sentence, add_special_tokens=True):\n",
        "    text_sentence = text_sentence.replace('<mask>', tokenizer.mask_token)\n",
        "    if tokenizer.mask_token == text_sentence.split()[-1]:\n",
        "        text_sentence += ' .'\n",
        "    input_ids = torch.tensor([tokenizer.encode(text_sentence, add_special_tokens=add_special_tokens)])\n",
        "    mask_idx = torch.where(input_ids == tokenizer.mask_token_id)[1].tolist()[0]\n",
        "    return input_ids, mask_idx\n",
        "\n",
        "def decode(tokenizer, pred_idx, top_clean):\n",
        "    ignore_tokens = string.punctuation + '[PAD]'\n",
        "    tokens = []\n",
        "    for w in pred_idx:\n",
        "        token = ''.join(tokenizer.decode(w).split())\n",
        "        if token not in ignore_tokens:\n",
        "            tokens.append(token.replace('##', ''))\n",
        "    return '\\n'.join(tokens[:top_clean])\n",
        "\n",
        "def get_all_predictions(text_sentence, top_clean):\n",
        "    input_ids, mask_idx = encode(bert_tokenizer, text_sentence)\n",
        "    #print('Input: ', input_ids)\n",
        "    #print('Mask: ', mask_idx)\n",
        "  \n",
        "    with torch.no_grad():\n",
        "        predict = bert_model(input_ids)[0]\n",
        "    bert = decode(bert_tokenizer, predict[0, mask_idx, :].topk(top_k).indices.tolist(), top_clean)\n",
        "    return bert"
      ],
      "outputs": [],
      "metadata": {
        "colab": {
          "base_uri": "https://localhost:8080/"
        },
        "id": "H7Nw9iDroyS-",
        "outputId": "25851379-4b50-40ba-f14b-f86e7b87d11d"
      }
    },
    {
      "cell_type": "code",
      "execution_count": 22,
      "source": [
        "def get_predictions(input_text, best_n_predictions=1):\n",
        "    try:\n",
        "        input_text += ' <mask>'\n",
        "        res = get_all_predictions(input_text, best_n_predictions)\n",
        "        return res\n",
        "\n",
        "    except Exception as error:\n",
        "        err = str(error)\n",
        "        return err"
      ],
      "outputs": [],
      "metadata": {
        "id": "9m_pvUw4qTxq"
      }
    },
    {
      "cell_type": "code",
      "execution_count": null,
      "source": [
        "input_text = \"Dinheiro não traz\"\n",
        "\n",
        "print(get_predictions(input_text,best_n_predictions=1))"
      ],
      "outputs": [],
      "metadata": {
        "colab": {
          "base_uri": "https://localhost:8080/"
        },
        "id": "7gc-VsUfqsED",
        "outputId": "3501f34a-d54d-4669-a12a-c5d5cd3c1906"
      }
    }
  ]
}